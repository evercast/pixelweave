{
 "cells": [
  {
   "cell_type": "code",
   "execution_count": 178,
   "id": "a59feaf7",
   "metadata": {},
   "outputs": [],
   "source": [
    "import numpy as np\n",
    "np.set_printoptions(formatter={'float': lambda x: \"{0:0.10f}\".format(x)})"
   ]
  },
  {
   "cell_type": "code",
   "execution_count": 179,
   "id": "3736523a",
   "metadata": {},
   "outputs": [
    {
     "name": "stdout",
     "output_type": "stream",
     "text": [
      "Input RGB:  [191   0   0]\n"
     ]
    }
   ],
   "source": [
    "inRGB = np.array([191, 0, 0])\n",
    "print(\"Input RGB: \", inRGB)"
   ]
  },
  {
   "cell_type": "code",
   "execution_count": 184,
   "id": "965afc85",
   "metadata": {},
   "outputs": [
    {
     "name": "stdout",
     "output_type": "stream",
     "text": [
      "YUV matrix should be: \n",
      " [[0.1825870759 -0.1006458962 0.4392232994]\n",
      " [0.6142312835 -0.3385774032 -0.3989573863]\n",
      " [0.0619930457 0.4392232994 -0.0402659131]]\n"
     ]
    }
   ],
   "source": [
    "# Constants here!\n",
    "yuvToRGB709 = np.array( [\n",
    "    [1.1644, 0.0, 1.7927],\n",
    "    [1.1644, -0.2132, -0.5329],\n",
    "    [1.1644, 2.1124, 0.0]\n",
    "])\n",
    "\n",
    "rgbToYUV709 = np.linalg.inv(np.array([\n",
    "    [1.1644, 0.0, 1.7927],\n",
    "    [1.1644, -0.2132, -0.5329],\n",
    "    [1.1644, 2.1124, 0.0]\n",
    "]))\n",
    "\n",
    "print(\"YUV matrix should be: \\n\", np.transpose(rgbToYUV709))\n",
    "\n",
    "rangeScale = (235.0 - 16.0) / (255.0 - 0.0)\n",
    "rangeScalePerChannel = np.array([rangeScale, rangeScale, rangeScale])\n",
    "yuvOffset = np.array([16.0, 128.0, 128.0])"
   ]
  },
  {
   "cell_type": "code",
   "execution_count": 181,
   "id": "95d4a629",
   "metadata": {},
   "outputs": [
    {
     "name": "stdout",
     "output_type": "stream",
     "text": [
      "RGB source ->  [191   0   0] , in YUV ->  [50.8741314962 108.7766338221 211.8916501845]\n"
     ]
    }
   ],
   "source": [
    "yuvLegal = np.matmul(rgbToYUV7092, inRGB) + np.array([16.0, 128.0, 128.0])\n",
    "\n",
    "print(\"RGB source -> \", inRGB, \", in YUV -> \", yuvLegal)"
   ]
  },
  {
   "cell_type": "code",
   "execution_count": 182,
   "id": "6824ae6a",
   "metadata": {},
   "outputs": [
    {
     "name": "stdout",
     "output_type": "stream",
     "text": [
      "Resulting RGB:  [191.0000000000 0.0000000000 -0.0000000000]\n"
     ]
    }
   ],
   "source": [
    "yuvOffset = np.array([-16.0, -128.0, -128.0])\n",
    "yuvWithOffset = yuvLegal + yuvOffset\n",
    "outRGB = np.matmul(yuvToRGB709, yuvWithOffset)\n",
    "print(\"Resulting RGB: \", outRGB)"
   ]
  },
  {
   "cell_type": "code",
   "execution_count": null,
   "id": "b32a5820",
   "metadata": {},
   "outputs": [],
   "source": []
  }
 ],
 "metadata": {
  "kernelspec": {
   "display_name": "Python 3 (ipykernel)",
   "language": "python",
   "name": "python3"
  },
  "language_info": {
   "codemirror_mode": {
    "name": "ipython",
    "version": 3
   },
   "file_extension": ".py",
   "mimetype": "text/x-python",
   "name": "python",
   "nbconvert_exporter": "python",
   "pygments_lexer": "ipython3",
   "version": "3.9.5"
  }
 },
 "nbformat": 4,
 "nbformat_minor": 5
}
