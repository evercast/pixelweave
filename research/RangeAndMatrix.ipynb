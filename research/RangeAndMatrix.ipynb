{
 "cells": [
  {
   "cell_type": "code",
   "execution_count": 1,
   "id": "7b3216e8",
   "metadata": {},
   "outputs": [],
   "source": [
    "import numpy as np\n",
    "np.set_printoptions(formatter={'float': lambda x: \"{0:0.10f}\".format(x)})"
   ]
  },
  {
   "cell_type": "code",
   "execution_count": 2,
   "id": "99711558",
   "metadata": {},
   "outputs": [
    {
     "name": "stdout",
     "output_type": "stream",
     "text": [
      "Input RGB:  [255 255 255]\n"
     ]
    }
   ],
   "source": [
    "in_rgb = np.array([255, 255, 255])\n",
    "print(\"Input RGB: \", in_rgb)"
   ]
  },
  {
   "cell_type": "code",
   "execution_count": 3,
   "id": "9633d5a0",
   "metadata": {},
   "outputs": [],
   "source": [
    "# Matrix used in the SDL shader\n",
    "yuv_legal_to_rgb_full_709 = np.array( [\n",
    "    [1.1644, 0.0, 1.7927],\n",
    "    [1.1644, -0.2132, -0.5329],\n",
    "    [1.1644, 2.1124, 0.0]\n",
    "])\n",
    "\n",
    "yuv_full_to_rgb_full_709 = np.array([\n",
    "    [1.0, 0.0, 1.28033],\n",
    "    [1.0, -0.21482, -0.38059],\n",
    "    [1.0, 2.12798, 0.0]\n",
    "])\n",
    "\n",
    "def get_yuv_matrix(kr, kb):\n",
    "    # See https://en.wikipedia.org/wiki/YCbCr - RGB conversion\n",
    "    kg = 1.0 - kb - kr\n",
    "    return np.array([\n",
    "        [kr, kg, kb],\n",
    "        [-0.5*(kr / (1.0 - kb)), -0.5*(kg / (1.0-kb)), 0.5],\n",
    "        [0.5, -0.5 * (kg / (1.0-kr)), -0.5 * (kb / (1.0-kr))]\n",
    "    ])\n",
    "# From https://www.itu.int/dms_pubrec/itu-r/rec/bt/R-REC-BT.709-6-201506-I!!PDF-E.pdf\n",
    "kr_709 = 0.2126\n",
    "kb_709 = 0.0722\n",
    "kr_2020 = 0.2627\n",
    "kb_2020 = 0.0593"
   ]
  },
  {
   "cell_type": "code",
   "execution_count": 4,
   "id": "a1406826",
   "metadata": {},
   "outputs": [
    {
     "name": "stdout",
     "output_type": "stream",
     "text": [
      "RGB to YUV 709 matrix: \n",
      " [[0.2126000000 0.7152000000 0.0722000000]\n",
      " [-0.1145721061 -0.3854278939 0.5000000000]\n",
      " [0.5000000000 -0.4541529083 -0.0458470917]]\n",
      "[[1.0000000000 0.0000000000 1.5748000000]\n",
      " [1.0000000000 -0.1873242729 -0.4681242729]\n",
      " [1.0000000000 1.8556000000 0.0000000000]]\n"
     ]
    }
   ],
   "source": [
    "rgb_to_yuv_709 = get_yuv_matrix(kr_709, kb_709)\n",
    "print(\"RGB to YUV 709 matrix: \\n\", rgb_to_yuv_709)\n",
    "\n",
    "# Minimum Y is 16, max 235\n",
    "# Minimum UV is 16, max 240\n",
    "# See https://www.itu.int/dms_pubrec/itu-r/rec/bt/R-REC-BT.709-6-201506-I!!PDF-E.pdf\n",
    "range_multiplier = np.array([(235.0-16.0)/255.0, (240.0 - 16.0)/255.0, (240.0 - 16.0)/255.0])\n",
    "yuv_offset_legal = np.array([16.0, 128.0, 128.0])\n",
    "yuv_offset_full = np.array([0.0, 128.0, 128.0])\n",
    "\n",
    "print(np.linalg.inv(rgb_to_yuv_709))"
   ]
  },
  {
   "cell_type": "code",
   "execution_count": 5,
   "id": "d7c7fbbe",
   "metadata": {},
   "outputs": [
    {
     "name": "stdout",
     "output_type": "stream",
     "text": [
      "YUV out legal is:  [235.0000000000 128.0000000000 128.0000000000]\n"
     ]
    }
   ],
   "source": [
    "yuv_out_legal = np.matmul(rgb_to_yuv_709, in_rgb)\n",
    "yuv_out_legal = np.multiply(yuv_out_legal, range_multiplier)\n",
    "yuv_out_legal = yuv_out_legal + yuv_offset_legal\n",
    "print(\"YUV out legal is: \", yuv_out_legal)"
   ]
  },
  {
   "cell_type": "code",
   "execution_count": 6,
   "id": "43c41e4a",
   "metadata": {},
   "outputs": [
    {
     "name": "stdout",
     "output_type": "stream",
     "text": [
      "YUV out full is:  [255.0000000000 128.0000000000 128.0000000000]\n"
     ]
    }
   ],
   "source": [
    "yuv_out_full = np.matmul(rgb_to_yuv_709, in_rgb) + yuv_offset_full\n",
    "print(\"YUV out full is: \", yuv_out_full)"
   ]
  },
  {
   "cell_type": "code",
   "execution_count": 7,
   "id": "de7e3355",
   "metadata": {},
   "outputs": [
    {
     "name": "stdout",
     "output_type": "stream",
     "text": [
      "Resulting RGB - yuv legal:  [255.0000000000 255.0000000000 255.0000000000]\n",
      "Resulting RGB - yuv full:  [255.0000000000 255.0000000000 255.0000000000]\n"
     ]
    }
   ],
   "source": [
    "# Control that the conversion was the identity\n",
    "out_rgb_from_legal = np.matmul(yuv_legal_to_rgb_full_709, yuv_out_legal - yuv_offset_legal)\n",
    "print(\"Resulting RGB - yuv legal: \", np.round(out_rgb_from_legal))\n",
    "\n",
    "out_rgb_from_full = np.matmul(yuv_full_to_rgb_full_709, yuv_out_full - yuv_offset_full)\n",
    "print(\"Resulting RGB - yuv full: \", np.round(out_rgb_from_full))"
   ]
  },
  {
   "cell_type": "code",
   "execution_count": 8,
   "id": "625d6a86",
   "metadata": {},
   "outputs": [
    {
     "name": "stdout",
     "output_type": "stream",
     "text": [
      "[215.3215800000 12.4902600000 -9.8394000000]\n",
      "[252.4248000000 0.6360697987 -1.6680000000]\n"
     ]
    }
   ],
   "source": [
    "# Value from Alex's DeckLink stream (255, 0, 0)\n",
    "test_yuv = np.array([54, 98, 254])\n",
    "renderer_matrix = yuv_full_to_rgb_full_709\n",
    "zimg_matrix = np.linalg.inv(rgb_to_yuv_709)\n",
    "print(np.matmul(renderer_matrix, test_yuv - yuv_offset_full))\n",
    "print(np.matmul(zimg_matrix, test_yuv - yuv_offset_full))"
   ]
  },
  {
   "cell_type": "code",
   "execution_count": 27,
   "id": "4c833a48",
   "metadata": {},
   "outputs": [
    {
     "name": "stdout",
     "output_type": "stream",
     "text": [
      "[255.0000000000 128.0000000000 128.0000000000]\n",
      "[[1.0000000000 0.0000000000 1.5748000000]\n",
      " [1.0000000000 -0.1873242729 -0.4681242729]\n",
      " [1.0000000000 1.8556000000 0.0000000000]]\n",
      "[255.0000000000 255.0000000000 255.0000000000]\n"
     ]
    }
   ],
   "source": [
    "asyuv = np.matmul(rgb_to_yuv_709, np.array([255, 255, 255])) + np.array([0, 128, 128])\n",
    "print(asyuv)\n",
    "print(np.linalg.inv(rgb_to_yuv_709))\n",
    "rgbFull = np.matmul(np.linalg.inv(rgb_to_yuv_709), ((asyuv - yuv_offset_full)))\n",
    "print(rgbFull)"
   ]
  },
  {
   "cell_type": "code",
   "execution_count": 14,
   "id": "0aa6e76a",
   "metadata": {},
   "outputs": [
    {
     "name": "stdout",
     "output_type": "stream",
     "text": [
      "[59925.0000000000 32640.0000000000 32640.0000000000]\n"
     ]
    }
   ],
   "source": []
  },
  {
   "cell_type": "code",
   "execution_count": null,
   "id": "d10467f6",
   "metadata": {},
   "outputs": [],
   "source": []
  }
 ],
 "metadata": {
  "kernelspec": {
   "display_name": "Python 3 (ipykernel)",
   "language": "python",
   "name": "python3"
  },
  "language_info": {
   "codemirror_mode": {
    "name": "ipython",
    "version": 3
   },
   "file_extension": ".py",
   "mimetype": "text/x-python",
   "name": "python",
   "nbconvert_exporter": "python",
   "pygments_lexer": "ipython3",
   "version": "3.9.5"
  }
 },
 "nbformat": 4,
 "nbformat_minor": 5
}
